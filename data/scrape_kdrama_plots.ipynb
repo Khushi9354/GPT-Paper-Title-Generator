{
 "cells": [
  {
   "cell_type": "code",
   "execution_count": 1,
   "metadata": {},
   "outputs": [],
   "source": [
    "import requests\n",
    "from bs4 import BeautifulSoup\n",
    "import random\n",
    "from tqdm import tqdm\n",
    "import pandas as pd\n",
    "\n",
    "URL_BASE = 'https://en.wikipedia.org'\n",
    "URL_KDRAMAS_LIST = URL_BASE + '/wiki/List_of_South_Korean_dramas'"
   ]
  },
  {
   "cell_type": "code",
   "execution_count": 4,
   "metadata": {},
   "outputs": [],
   "source": [
    "# get page links\n",
    "response = requests.get(\n",
    "\turl=URL_KDRAMAS_LIST,\n",
    ")\n",
    "soup = BeautifulSoup(response.content, 'html.parser')\n",
    "df = {\n",
    "    s: [] for s in ['link', 'title', 'year']\n",
    "}\n",
    "for li in soup.find_all(\"li\"):\n",
    "    itag = li\n",
    "    if itag.i:\n",
    "        df['link'].append(itag.a.get('href'))\n",
    "        df['title'].append(itag.a.get('title').strip())\n",
    "        df['year'].append(itag.contents[1].strip().strip('()'))\n",
    "df = pd.DataFrame.from_dict(df)"
   ]
  },
  {
   "cell_type": "code",
   "execution_count": 5,
   "metadata": {},
   "outputs": [
    {
     "name": "stderr",
     "output_type": "stream",
     "text": [
      "100%|██████████| 1336/1336 [02:31<00:00,  8.85it/s]\n"
     ]
    }
   ],
   "source": [
    "def check_for_title(h):\n",
    "    if h.span: # and h.span.has_key('mw-headline'):\n",
    "        try:\n",
    "            content = h.span.contents[0].lower()\n",
    "            if content in ['synopsis', 'plot']:\n",
    "                text = h.span.find_next('p')\n",
    "                return text.contents\n",
    "        except:\n",
    "            pass\n",
    "    return False\n",
    "        \n",
    "def check_all_titles(soup):\n",
    "    for h in soup.find_all('h2'):\n",
    "        text = check_for_title(h)\n",
    "        if text:\n",
    "            return text\n",
    "    return None\n",
    "\n",
    "df['synopsis'] = None\n",
    "for i in tqdm(range(df.shape[0])):\n",
    "    link = df.iloc[i]['link']\n",
    "    response = requests.get(\n",
    "        url=URL_BASE + link,\n",
    "    )\n",
    "    soup = BeautifulSoup(response.content, 'html.parser')\n",
    "    df['synopsis'][i] = check_all_titles(soup)"
   ]
  },
  {
   "cell_type": "code",
   "execution_count": 6,
   "metadata": {},
   "outputs": [
    {
     "name": "stderr",
     "output_type": "stream",
     "text": [
      "100%|██████████| 1336/1336 [00:00<00:00, 1887.38it/s]\n"
     ]
    }
   ],
   "source": [
    "# clean up links and refs    \n",
    "for i in tqdm(range(df.shape[0])):\n",
    "    syn = df['synopsis'].iloc[i]\n",
    "    if syn is not None:\n",
    "        s = []\n",
    "        for comp in syn:\n",
    "            if 'Tag' in str(type(comp)):\n",
    "        \n",
    "                # reference\n",
    "                if str(comp).startswith('<sup'): \n",
    "                    pass\n",
    "                # actual link\n",
    "                else: \n",
    "                    try:\n",
    "                        s.append(str(comp.contents[0]))\n",
    "                    except:\n",
    "                        pass\n",
    "            else:\n",
    "                s.append(str(comp))\n",
    "            \n",
    "        syn = ''.join(s)\n",
    "    df['synopsis'][i] = syn    \n",
    "df.to_csv('kdrama_synopses.csv')"
   ]
  },
  {
   "cell_type": "code",
   "execution_count": 4,
   "metadata": {},
   "outputs": [],
   "source": [
    "synopses = pd.read_csv('kdrama_synopses.csv')['synopsis']"
   ]
  },
  {
   "cell_type": "code",
   "execution_count": 7,
   "metadata": {},
   "outputs": [
    {
     "name": "stderr",
     "output_type": "stream",
     "text": [
      "/accounts/projects/vision/.local/lib/python3.7/site-packages/ipykernel_launcher.py:1: FutureWarning: The signature of `Series.to_csv` was aligned to that of `DataFrame.to_csv`, and argument 'header' will change its default value from False to True: please pass an explicit value to suppress this warning.\n",
      "  \"\"\"Entry point for launching an IPython kernel.\n"
     ]
    }
   ],
   "source": [
    "synopses.dropna().to_csv('../titles.csv', index=False)"
   ]
  }
 ],
 "metadata": {
  "kernelspec": {
   "display_name": "Python 3.7",
   "language": "python",
   "name": "python3.7"
  },
  "language_info": {
   "codemirror_mode": {
    "name": "ipython",
    "version": 3
   },
   "file_extension": ".py",
   "mimetype": "text/x-python",
   "name": "python",
   "nbconvert_exporter": "python",
   "pygments_lexer": "ipython3",
   "version": "3.7.5"
  }
 },
 "nbformat": 4,
 "nbformat_minor": 4
}
