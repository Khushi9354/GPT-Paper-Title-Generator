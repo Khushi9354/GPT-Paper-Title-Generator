{
 "cells": [
  {
   "cell_type": "code",
   "execution_count": 22,
   "metadata": {},
   "outputs": [],
   "source": [
    "# Follow tutorial from here: https://huggingface.co/docs/transformers/v4.17.0/en/tasks/language_modeling\n",
    "%load_ext autoreload\n",
    "%autoreload 2\n",
    "import pandas as pd\n",
    "import seaborn as sns\n",
    "import matplotlib.pyplot as plt\n",
    "import numpy as np\n",
    "from sklearn.model_selection import train_test_split\n",
    "import json\n",
    "import torch\n",
    "import datasets\n",
    "from transformers import AutoTokenizer, DataCollatorWithPadding, AutoModelForCausalLM, TrainingArguments, Trainer, DataCollatorForLanguageModeling\n",
    "import data\n",
    "import os\n",
    "from os.path import join\n",
    "from tqdm import tqdm\n",
    "\n",
    "# hyperparams\n",
    "# checkpoint = \"EleutherAI/gpt-j-6B\"\n",
    "checkpoint = \"EleutherAI/gpt-neo-2.7B\"\n",
    "# checkpoint = 'facebook/opt-2.7b'\n",
    "tokenizer = AutoTokenizer.from_pretrained(checkpoint)\n",
    "tokenizer.pad_token = tokenizer.eos_token"
   ]
  },
  {
   "cell_type": "code",
   "execution_count": 12,
   "metadata": {},
   "outputs": [],
   "source": [
    "checkpoint_dir = f'./title-{checkpoint.replace(\"/\", \"__\")}'\n",
    "checkpoints = os.listdir(checkpoint_dir)"
   ]
  },
  {
   "cell_type": "code",
   "execution_count": 14,
   "metadata": {},
   "outputs": [
    {
     "name": "stderr",
     "output_type": "stream",
     "text": [
      "  0%|          | 0/9 [00:00<?, ?it/s]Setting `pad_token_id` to `eos_token_id`:198 for open-end generation.\n",
      " 11%|█         | 1/9 [00:30<04:05, 30.73s/it]Setting `pad_token_id` to `eos_token_id`:198 for open-end generation.\n",
      " 22%|██▏       | 2/9 [00:58<03:22, 28.88s/it]Setting `pad_token_id` to `eos_token_id`:198 for open-end generation.\n",
      " 33%|███▎      | 3/9 [01:52<04:01, 40.23s/it]Setting `pad_token_id` to `eos_token_id`:198 for open-end generation.\n",
      " 44%|████▍     | 4/9 [03:06<04:27, 53.57s/it]Setting `pad_token_id` to `eos_token_id`:198 for open-end generation.\n",
      " 56%|█████▌    | 5/9 [08:09<09:34, 143.73s/it]Setting `pad_token_id` to `eos_token_id`:198 for open-end generation.\n",
      " 67%|██████▋   | 6/9 [09:24<06:00, 120.20s/it]Setting `pad_token_id` to `eos_token_id`:198 for open-end generation.\n",
      " 78%|███████▊  | 7/9 [15:08<06:27, 193.50s/it]Setting `pad_token_id` to `eos_token_id`:198 for open-end generation.\n",
      " 89%|████████▉ | 8/9 [16:21<02:35, 155.20s/it]Setting `pad_token_id` to `eos_token_id`:198 for open-end generation.\n",
      "100%|██████████| 9/9 [17:31<00:00, 116.88s/it]\n"
     ]
    }
   ],
   "source": [
    "for checkpoint in tqdm(checkpoints):\n",
    "    # load model\n",
    "\n",
    "    mod = AutoModelForCausalLM.from_pretrained(\n",
    "        # checkpoint,\n",
    "        join(checkpoint_dir, checkpoint),\n",
    "        # revision=\"float16\",\n",
    "        # torch_dtype=torch.float16,\n",
    "        # low_cpu_mem_usage=True\n",
    "    )\n",
    "    # mod = mod.half()\n",
    "    prompt = '2021\\n\\n'\n",
    "    samples = data.generate_samples(\n",
    "        mod,\n",
    "        tokenizer,\n",
    "        prompt=prompt,\n",
    "        num_return_sequences=40,\n",
    "    )\n",
    "    save_str = '\\n\\n'.join([repr(x[len(prompt):].strip()) for x in samples])\n",
    "    open(f'../samples/gptneo/2021-train/{checkpoint}.txt', 'w').write(save_str)"
   ]
  }
 ],
 "metadata": {
  "kernelspec": {
   "display_name": "Python 3.8.10 ('.autoprompt')",
   "language": "python",
   "name": "python3"
  },
  "language_info": {
   "codemirror_mode": {
    "name": "ipython",
    "version": 3
   },
   "file_extension": ".py",
   "mimetype": "text/x-python",
   "name": "python",
   "nbconvert_exporter": "python",
   "pygments_lexer": "ipython3",
   "version": "3.8.10"
  },
  "orig_nbformat": 4,
  "vscode": {
   "interpreter": {
    "hash": "d71ec94c00c8b9344a5c2d659d4374f2bc1ab97c860e619b1459df82f55983d1"
   }
  }
 },
 "nbformat": 4,
 "nbformat_minor": 2
}
