{
 "cells": [
  {
   "cell_type": "code",
   "execution_count": 2,
   "metadata": {},
   "outputs": [],
   "source": [
    "import pandas as pd\n",
    "import numpy as np\n",
    "import re\n",
    "import string\n",
    "import itertools\n",
    "import os.path\n",
    "import pickle as pkl\n",
    "import json"
   ]
  },
  {
   "cell_type": "markdown",
   "metadata": {},
   "source": [
    "# Process"
   ]
  },
  {
   "cell_type": "code",
   "execution_count": null,
   "metadata": {},
   "outputs": [],
   "source": [
    "authors_save = pkl.load(open('../samples/gpt3/authors_save_full.pkl', 'rb'))"
   ]
  },
  {
   "cell_type": "code",
   "execution_count": null,
   "metadata": {},
   "outputs": [],
   "source": [
    "len(authors_save)"
   ]
  },
  {
   "cell_type": "code",
   "execution_count": 8,
   "metadata": {},
   "outputs": [],
   "source": [
    "authors_save_processed = {\n",
    "    a: [v.strip() for v in authors_save[a]]\n",
    "    for a in authors_save\n",
    "}\n",
    "json.dump(authors_save_processed, open('../samples/gpt3/authors_save_full.json', 'w'))"
   ]
  },
  {
   "cell_type": "code",
   "execution_count": 20,
   "metadata": {},
   "outputs": [
    {
     "name": "stdout",
     "output_type": "stream",
     "text": [
      "demis hassabis\n",
      "\t How transferable are features in deep neural networks?\n",
      "\t User modelling in dialog systems: A survey\n",
      "\t Learning to play Go from scratch by self-play reinforcement learning\n",
      "\t Multiagent collaboration understaing with inverse reinforcement learning\n",
      "\t Achieving deep and structured representation learning in online problems\n",
      "yoshua bengio\n",
      "\t Semi-Supervised Reinforcement Learning with Deep Representation Learning\n",
      "\t Centralized training of deep neural networks with low communication overhead\n",
      "\t Context-aware politeness: A learning-based approach\n",
      "\t Neural Variational Inference and Learning in Boltzmann Machines\n",
      "\t Watch Your Step: Guarding Model-Based Reinforcement Learning from Step-wise\n",
      "chelsea finn\n",
      "\t Neural-Symbolic Virtual Machines\n",
      "\t Scalable Inverse Reinforcement Learning for Street Networks\n",
      "\t Neural Program Repair\n",
      "\t Neural Module Networks\n",
      "\t Neural Networks for Pattern Recognition\n",
      "joshua tenenbaum\n",
      "\t Neural Symbolic VLIW Architectures for Programmable Inference\n",
      "\t Understanding Overfitting in Deep Learning\n",
      "\t Deep Learning for Physical Processes: Integrating Physics and Data-Driven Methods\n",
      "\t Deep Generative Models for Physical Scene Understanding\n",
      "\t Joint Optimization of Multiple Objectives withpolicy gradient Methods\n",
      "jianfeng gao\n",
      "\t Pre-trained Transformer Models for Language Understanding\n",
      "\t A Neural Retriever for Context-Dependent Semantic Completion\n",
      "\t Retrofitting Distributed Representations for Zero-Shot Cross-lingual Entity Link\n",
      "\t Achieving Zero Shot Learning via Pre-trained Language Models\n",
      "\t Modeling Adjacencies for Efficient Contextual Representation Learning\n"
     ]
    }
   ],
   "source": [
    "authors = ['demis hassabis', 'yoshua bengio', 'chelsea finn', 'joshua tenenbaum', 'jianfeng gao']\n",
    "for author in authors:\n",
    "    print(author)\n",
    "    titles = authors_save_processed[author]\n",
    "\n",
    "    for title in titles:\n",
    "        print('\\t', title)"
   ]
  },
  {
   "cell_type": "markdown",
   "metadata": {},
   "source": [
    "# Save for web"
   ]
  },
  {
   "cell_type": "code",
   "execution_count": 2,
   "metadata": {},
   "outputs": [],
   "source": [
    "authors_save_processed = json.load(open('../samples/gpt3/authors_save_full.json', 'r'))"
   ]
  },
  {
   "cell_type": "code",
   "execution_count": 27,
   "metadata": {},
   "outputs": [
    {
     "data": {
      "text/plain": [
       "740469"
      ]
     },
     "execution_count": 27,
     "metadata": {},
     "output_type": "execute_result"
    }
   ],
   "source": [
    "l = list(authors_save_processed.keys())\n",
    "s = 'var authors = ['\n",
    "STEP = 25\n",
    "for i, author in enumerate(authors_save_processed):\n",
    "    s += '\\t' + repr(author) + ',\\n'\n",
    "# for i in range(0, len(l)//STEP, STEP):\n",
    "    # s += ','.join([\n",
    "            # repr(x)\n",
    "            # repr(''.join(filter(str.isalnum, x)))\n",
    "            # for x in l[i * STEP: (i + 1) * STEP]]) + ',\\n'\n",
    "s += ']'\n",
    "\n",
    "open('../web/authors.js', 'w').write(s)\n"
   ]
  },
  {
   "cell_type": "code",
   "execution_count": 30,
   "metadata": {},
   "outputs": [
    {
     "data": {
      "text/plain": [
       "14229019"
      ]
     },
     "execution_count": 30,
     "metadata": {},
     "output_type": "execute_result"
    }
   ],
   "source": [
    "s = 'var titles = {\\n'\n",
    "for i, author in enumerate(authors_save_processed):\n",
    "    s += '\\t' + repr(author) + ': ' + repr('<br>'.join([\n",
    "        '> ' + title for title in authors_save_processed[author]\n",
    "        ])) + ',\\n'\n",
    "s += '}'\n",
    "open('../web/titles.js', 'w').write(s)"
   ]
  },
  {
   "cell_type": "markdown",
   "metadata": {},
   "source": [
    "# Example"
   ]
  },
  {
   "cell_type": "code",
   "execution_count": 4,
   "metadata": {},
   "outputs": [],
   "source": [
    "authors_dict_titles = pkl.load(open('../data/authors_dict_titles.pkl', 'rb'))"
   ]
  },
  {
   "cell_type": "code",
   "execution_count": 6,
   "metadata": {},
   "outputs": [
    {
     "name": "stdout",
     "output_type": "stream",
     "text": [
      "Hierarchical Shrinkage: improving the accuracy and interpretability of tree-based methods\n",
      "> Group Probability-Weighted Tree Sums for Interpretable Modeling of Heterogeneous Data\n",
      "> Beyond the Imitation Game: Quantifying and extrapolating the capabilities of language models\n",
      "> Emb-GAM: an Interpretable and Efficient Predictor using Pre-trained Language Models\n",
      "> Explaining Patterns in Data with Language Models via Interpretable Autoprompting\n",
      ">\n"
     ]
    }
   ],
   "source": [
    "\n",
    "query =  '\\n> '.join(authors_dict_titles['chandan singh'][-5:]) + '\\n>'\n",
    "print(query)"
   ]
  }
 ],
 "metadata": {
  "kernelspec": {
   "display_name": "Python 3.9.13 64-bit",
   "language": "python",
   "name": "python3"
  },
  "language_info": {
   "codemirror_mode": {
    "name": "ipython",
    "version": 3
   },
   "file_extension": ".py",
   "mimetype": "text/x-python",
   "name": "python",
   "nbconvert_exporter": "python",
   "pygments_lexer": "ipython3",
   "version": "3.9.13"
  },
  "orig_nbformat": 4,
  "vscode": {
   "interpreter": {
    "hash": "aee8b7b246df8f9039afb4144a1f6fd8d2ca17a180786b69acc140d282b71a49"
   }
  }
 },
 "nbformat": 4,
 "nbformat_minor": 2
}
